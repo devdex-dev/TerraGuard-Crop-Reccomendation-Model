{
 "cells": [
  {
   "cell_type": "code",
   "execution_count": 1,
   "id": "7672eef3",
   "metadata": {},
   "outputs": [],
   "source": [
    "import pandas as pd\n",
    "from sklearn.preprocessing import LabelEncoder"
   ]
  },
  {
   "cell_type": "code",
   "execution_count": 2,
   "id": "ead03104",
   "metadata": {},
   "outputs": [],
   "source": [
    "#Import dataset\n",
    "data = pd.read_csv('Crop_recommendation.csv', header=0, sep=\",\")"
   ]
  },
  {
   "cell_type": "markdown",
   "id": "5fd1e07a",
   "metadata": {},
   "source": [
    "# Data Preperation and Processing"
   ]
  },
  {
   "cell_type": "code",
   "execution_count": 3,
   "id": "eb8c4ce9",
   "metadata": {},
   "outputs": [
    {
     "name": "stdout",
     "output_type": "stream",
     "text": [
      "#list all datatype within dataset\n",
      "\n",
      "<class 'pandas.core.frame.DataFrame'>\n",
      "RangeIndex: 1497 entries, 0 to 1496\n",
      "Data columns (total 8 columns):\n",
      " #   Column       Non-Null Count  Dtype  \n",
      "---  ------       --------------  -----  \n",
      " 0   N            1497 non-null   int64  \n",
      " 1   P            1497 non-null   int64  \n",
      " 2   K            1497 non-null   int64  \n",
      " 3   temperature  1497 non-null   float64\n",
      " 4   humidity     1497 non-null   float64\n",
      " 5   ph           1497 non-null   float64\n",
      " 6   rainfall     1497 non-null   float64\n",
      " 7   label        1497 non-null   object \n",
      "dtypes: float64(4), int64(3), object(1)\n",
      "memory usage: 93.7+ KB\n",
      "None\n",
      "\n",
      "#Summarize dataset\n",
      "                 N            P            K  temperature     humidity  \\\n",
      "count  1497.000000  1497.000000  1497.000000  1497.000000  1497.000000   \n",
      "mean     56.742819    48.072812    32.262525    24.908256    63.009116   \n",
      "std      39.005330    21.372478    19.304100     4.542748    24.584605   \n",
      "min       0.000000     5.000000     5.000000    10.010813    14.258040   \n",
      "25%      22.000000    34.000000    19.000000    21.865252    48.696778   \n",
      "50%      43.000000    48.000000    25.000000    25.234661    69.022986   \n",
      "75%      93.000000    63.000000    44.000000    27.949725    83.311720   \n",
      "max     140.000000    95.000000    85.000000    36.977944    94.964199   \n",
      "\n",
      "                ph     rainfall  \n",
      "count  1497.000000  1497.000000  \n",
      "mean      6.500573   100.464686  \n",
      "std       0.903154    52.988756  \n",
      "min       3.504752     5.314507  \n",
      "25%       5.912290    64.614442  \n",
      "50%       6.435917    93.123306  \n",
      "75%       7.010571   116.379653  \n",
      "max       9.935091   298.560117  \n",
      "\n",
      "#list dataset header\n",
      "['N', 'P', 'K', 'temperature', 'humidity', 'ph', 'rainfall', 'label']\n"
     ]
    }
   ],
   "source": [
    "print('#list all datatype within dataset')\n",
    "print()\n",
    "print(data.info())\n",
    "print()\n",
    "print('#Summarize dataset')\n",
    "print(data.describe())\n",
    "print()\n",
    "# print('#Changing Datatype')\n",
    "# data['N'] = data['N'].astype(\"int64\")\n",
    "print('#list dataset header')\n",
    "print(list(data))"
   ]
  },
  {
   "cell_type": "code",
   "execution_count": 4,
   "id": "11709ddd",
   "metadata": {},
   "outputs": [],
   "source": [
    "# #Detaching the Label(output)\n",
    "# label =  data[\"label\"]\n",
    "\n",
    "#  #Separate feature(input)\n",
    "# feature = data[[\"N\",\"P\", \"K\"]]\n",
    "data = data.drop(columns=['temperature', 'humidity', 'ph', 'rainfall'])"
   ]
  },
  {
   "cell_type": "code",
   "execution_count": 5,
   "id": "9e8d6658",
   "metadata": {},
   "outputs": [
    {
     "data": {
      "text/html": [
       "<div>\n",
       "<style scoped>\n",
       "    .dataframe tbody tr th:only-of-type {\n",
       "        vertical-align: middle;\n",
       "    }\n",
       "\n",
       "    .dataframe tbody tr th {\n",
       "        vertical-align: top;\n",
       "    }\n",
       "\n",
       "    .dataframe thead th {\n",
       "        text-align: right;\n",
       "    }\n",
       "</style>\n",
       "<table border=\"1\" class=\"dataframe\">\n",
       "  <thead>\n",
       "    <tr style=\"text-align: right;\">\n",
       "      <th></th>\n",
       "      <th>N</th>\n",
       "      <th>P</th>\n",
       "      <th>K</th>\n",
       "      <th>label</th>\n",
       "    </tr>\n",
       "  </thead>\n",
       "  <tbody>\n",
       "    <tr>\n",
       "      <th>0</th>\n",
       "      <td>90</td>\n",
       "      <td>42</td>\n",
       "      <td>43</td>\n",
       "      <td>rice</td>\n",
       "    </tr>\n",
       "    <tr>\n",
       "      <th>1</th>\n",
       "      <td>85</td>\n",
       "      <td>58</td>\n",
       "      <td>41</td>\n",
       "      <td>rice</td>\n",
       "    </tr>\n",
       "    <tr>\n",
       "      <th>2</th>\n",
       "      <td>60</td>\n",
       "      <td>55</td>\n",
       "      <td>44</td>\n",
       "      <td>rice</td>\n",
       "    </tr>\n",
       "    <tr>\n",
       "      <th>3</th>\n",
       "      <td>74</td>\n",
       "      <td>35</td>\n",
       "      <td>40</td>\n",
       "      <td>rice</td>\n",
       "    </tr>\n",
       "    <tr>\n",
       "      <th>4</th>\n",
       "      <td>78</td>\n",
       "      <td>42</td>\n",
       "      <td>42</td>\n",
       "      <td>rice</td>\n",
       "    </tr>\n",
       "    <tr>\n",
       "      <th>...</th>\n",
       "      <td>...</td>\n",
       "      <td>...</td>\n",
       "      <td>...</td>\n",
       "      <td>...</td>\n",
       "    </tr>\n",
       "    <tr>\n",
       "      <th>1492</th>\n",
       "      <td>117</td>\n",
       "      <td>86</td>\n",
       "      <td>48</td>\n",
       "      <td>banana</td>\n",
       "    </tr>\n",
       "    <tr>\n",
       "      <th>1493</th>\n",
       "      <td>114</td>\n",
       "      <td>94</td>\n",
       "      <td>53</td>\n",
       "      <td>banana</td>\n",
       "    </tr>\n",
       "    <tr>\n",
       "      <th>1494</th>\n",
       "      <td>110</td>\n",
       "      <td>78</td>\n",
       "      <td>50</td>\n",
       "      <td>banana</td>\n",
       "    </tr>\n",
       "    <tr>\n",
       "      <th>1495</th>\n",
       "      <td>94</td>\n",
       "      <td>70</td>\n",
       "      <td>48</td>\n",
       "      <td>banana</td>\n",
       "    </tr>\n",
       "    <tr>\n",
       "      <th>1496</th>\n",
       "      <td>80</td>\n",
       "      <td>71</td>\n",
       "      <td>47</td>\n",
       "      <td>banana</td>\n",
       "    </tr>\n",
       "  </tbody>\n",
       "</table>\n",
       "<p>1497 rows × 4 columns</p>\n",
       "</div>"
      ],
      "text/plain": [
       "        N   P   K   label\n",
       "0      90  42  43    rice\n",
       "1      85  58  41    rice\n",
       "2      60  55  44    rice\n",
       "3      74  35  40    rice\n",
       "4      78  42  42    rice\n",
       "...   ...  ..  ..     ...\n",
       "1492  117  86  48  banana\n",
       "1493  114  94  53  banana\n",
       "1494  110  78  50  banana\n",
       "1495   94  70  48  banana\n",
       "1496   80  71  47  banana\n",
       "\n",
       "[1497 rows x 4 columns]"
      ]
     },
     "execution_count": 5,
     "metadata": {},
     "output_type": "execute_result"
    }
   ],
   "source": [
    "data\n"
   ]
  },
  {
   "cell_type": "code",
   "execution_count": 6,
   "id": "5093d6ba",
   "metadata": {},
   "outputs": [],
   "source": []
  },
  {
   "cell_type": "code",
   "execution_count": null,
   "id": "9df83a16",
   "metadata": {},
   "outputs": [],
   "source": []
  },
  {
   "cell_type": "markdown",
   "id": "97bfbdfb",
   "metadata": {},
   "source": [
    "# Data Splitting for Test and Train"
   ]
  },
  {
   "cell_type": "code",
   "execution_count": 7,
   "id": "be6b1a55",
   "metadata": {},
   "outputs": [],
   "source": [
    "from sklearn.model_selection import train_test_split"
   ]
  },
  {
   "cell_type": "code",
   "execution_count": 8,
   "id": "bc501a75",
   "metadata": {},
   "outputs": [],
   "source": [
    "X = data[[\"N\",\"P\",\"K\"]]\n",
    "y = data[\"label\"]"
   ]
  },
  {
   "cell_type": "code",
   "execution_count": 9,
   "id": "db91cea8",
   "metadata": {
    "scrolled": true
   },
   "outputs": [],
   "source": [
    "X_train, X_test, y_train, y_test = train_test_split(X, y, test_size=0.15, random_state=2)"
   ]
  },
  {
   "cell_type": "markdown",
   "id": "59e83218",
   "metadata": {},
   "source": [
    "# Machine Learning Training"
   ]
  },
  {
   "cell_type": "code",
   "execution_count": 10,
   "id": "c2dabd37",
   "metadata": {},
   "outputs": [],
   "source": [
    "from sklearn.tree import DecisionTreeClassifier"
   ]
  },
  {
   "cell_type": "code",
   "execution_count": 11,
   "id": "7d663b68",
   "metadata": {},
   "outputs": [
    {
     "data": {
      "text/html": [
       "<style>#sk-container-id-1 {color: black;}#sk-container-id-1 pre{padding: 0;}#sk-container-id-1 div.sk-toggleable {background-color: white;}#sk-container-id-1 label.sk-toggleable__label {cursor: pointer;display: block;width: 100%;margin-bottom: 0;padding: 0.3em;box-sizing: border-box;text-align: center;}#sk-container-id-1 label.sk-toggleable__label-arrow:before {content: \"▸\";float: left;margin-right: 0.25em;color: #696969;}#sk-container-id-1 label.sk-toggleable__label-arrow:hover:before {color: black;}#sk-container-id-1 div.sk-estimator:hover label.sk-toggleable__label-arrow:before {color: black;}#sk-container-id-1 div.sk-toggleable__content {max-height: 0;max-width: 0;overflow: hidden;text-align: left;background-color: #f0f8ff;}#sk-container-id-1 div.sk-toggleable__content pre {margin: 0.2em;color: black;border-radius: 0.25em;background-color: #f0f8ff;}#sk-container-id-1 input.sk-toggleable__control:checked~div.sk-toggleable__content {max-height: 200px;max-width: 100%;overflow: auto;}#sk-container-id-1 input.sk-toggleable__control:checked~label.sk-toggleable__label-arrow:before {content: \"▾\";}#sk-container-id-1 div.sk-estimator input.sk-toggleable__control:checked~label.sk-toggleable__label {background-color: #d4ebff;}#sk-container-id-1 div.sk-label input.sk-toggleable__control:checked~label.sk-toggleable__label {background-color: #d4ebff;}#sk-container-id-1 input.sk-hidden--visually {border: 0;clip: rect(1px 1px 1px 1px);clip: rect(1px, 1px, 1px, 1px);height: 1px;margin: -1px;overflow: hidden;padding: 0;position: absolute;width: 1px;}#sk-container-id-1 div.sk-estimator {font-family: monospace;background-color: #f0f8ff;border: 1px dotted black;border-radius: 0.25em;box-sizing: border-box;margin-bottom: 0.5em;}#sk-container-id-1 div.sk-estimator:hover {background-color: #d4ebff;}#sk-container-id-1 div.sk-parallel-item::after {content: \"\";width: 100%;border-bottom: 1px solid gray;flex-grow: 1;}#sk-container-id-1 div.sk-label:hover label.sk-toggleable__label {background-color: #d4ebff;}#sk-container-id-1 div.sk-serial::before {content: \"\";position: absolute;border-left: 1px solid gray;box-sizing: border-box;top: 0;bottom: 0;left: 50%;z-index: 0;}#sk-container-id-1 div.sk-serial {display: flex;flex-direction: column;align-items: center;background-color: white;padding-right: 0.2em;padding-left: 0.2em;position: relative;}#sk-container-id-1 div.sk-item {position: relative;z-index: 1;}#sk-container-id-1 div.sk-parallel {display: flex;align-items: stretch;justify-content: center;background-color: white;position: relative;}#sk-container-id-1 div.sk-item::before, #sk-container-id-1 div.sk-parallel-item::before {content: \"\";position: absolute;border-left: 1px solid gray;box-sizing: border-box;top: 0;bottom: 0;left: 50%;z-index: -1;}#sk-container-id-1 div.sk-parallel-item {display: flex;flex-direction: column;z-index: 1;position: relative;background-color: white;}#sk-container-id-1 div.sk-parallel-item:first-child::after {align-self: flex-end;width: 50%;}#sk-container-id-1 div.sk-parallel-item:last-child::after {align-self: flex-start;width: 50%;}#sk-container-id-1 div.sk-parallel-item:only-child::after {width: 0;}#sk-container-id-1 div.sk-dashed-wrapped {border: 1px dashed gray;margin: 0 0.4em 0.5em 0.4em;box-sizing: border-box;padding-bottom: 0.4em;background-color: white;}#sk-container-id-1 div.sk-label label {font-family: monospace;font-weight: bold;display: inline-block;line-height: 1.2em;}#sk-container-id-1 div.sk-label-container {text-align: center;}#sk-container-id-1 div.sk-container {/* jupyter's `normalize.less` sets `[hidden] { display: none; }` but bootstrap.min.css set `[hidden] { display: none !important; }` so we also need the `!important` here to be able to override the default hidden behavior on the sphinx rendered scikit-learn.org. See: https://github.com/scikit-learn/scikit-learn/issues/21755 */display: inline-block !important;position: relative;}#sk-container-id-1 div.sk-text-repr-fallback {display: none;}</style><div id=\"sk-container-id-1\" class=\"sk-top-container\"><div class=\"sk-text-repr-fallback\"><pre>DecisionTreeClassifier(criterion=&#x27;entropy&#x27;, max_depth=25, random_state=1)</pre><b>In a Jupyter environment, please rerun this cell to show the HTML representation or trust the notebook. <br />On GitHub, the HTML representation is unable to render, please try loading this page with nbviewer.org.</b></div><div class=\"sk-container\" hidden><div class=\"sk-item\"><div class=\"sk-estimator sk-toggleable\"><input class=\"sk-toggleable__control sk-hidden--visually\" id=\"sk-estimator-id-1\" type=\"checkbox\" checked><label for=\"sk-estimator-id-1\" class=\"sk-toggleable__label sk-toggleable__label-arrow\">DecisionTreeClassifier</label><div class=\"sk-toggleable__content\"><pre>DecisionTreeClassifier(criterion=&#x27;entropy&#x27;, max_depth=25, random_state=1)</pre></div></div></div></div></div>"
      ],
      "text/plain": [
       "DecisionTreeClassifier(criterion='entropy', max_depth=25, random_state=1)"
      ]
     },
     "execution_count": 11,
     "metadata": {},
     "output_type": "execute_result"
    }
   ],
   "source": [
    "ml = DecisionTreeClassifier(criterion = 'entropy',random_state = 1, max_depth =25)\n",
    "ml.fit(X_train,y_train)"
   ]
  },
  {
   "cell_type": "code",
   "execution_count": 12,
   "id": "c01da45c",
   "metadata": {},
   "outputs": [],
   "source": [
    "predicted = ml.predict(X_test)"
   ]
  },
  {
   "cell_type": "code",
   "execution_count": 13,
   "id": "770a972e",
   "metadata": {},
   "outputs": [],
   "source": [
    "from sklearn import metrics\n",
    "from sklearn.metrics import classification_report\n",
    "x = metrics.accuracy_score(y_test, predicted)\n"
   ]
  },
  {
   "cell_type": "code",
   "execution_count": 14,
   "id": "5523a81b",
   "metadata": {},
   "outputs": [
    {
     "name": "stdout",
     "output_type": "stream",
     "text": [
      "Decision Tree's Accuracy is:  90.66666666666666\n",
      "              precision    recall  f1-score   support\n",
      "\n",
      "      banana       1.00      1.00      1.00        22\n",
      "       beans       0.68      0.76      0.72        17\n",
      "       cacao       1.00      1.00      1.00        25\n",
      "        corn       1.00      1.00      1.00        13\n",
      "      cotton       1.00      1.00      1.00        15\n",
      "     cowpeas       0.70      0.74      0.72        19\n",
      "       mango       1.00      0.94      0.97        17\n",
      "      orange       1.00      1.00      1.00        21\n",
      "      peanut       0.57      0.40      0.47        10\n",
      "        peas       0.54      0.58      0.56        12\n",
      "        rice       1.00      1.00      1.00        18\n",
      "    soybeans       1.00      1.00      1.00        21\n",
      "  watermelon       1.00      1.00      1.00        15\n",
      "\n",
      "    accuracy                           0.91       225\n",
      "   macro avg       0.88      0.88      0.88       225\n",
      "weighted avg       0.91      0.91      0.91       225\n",
      "\n"
     ]
    }
   ],
   "source": [
    "\n",
    "print(\"Decision Tree's Accuracy is: \", x*100)\n",
    "print(classification_report(y_test,predicted))"
   ]
  },
  {
   "cell_type": "code",
   "execution_count": 15,
   "id": "f1e387eb",
   "metadata": {},
   "outputs": [
    {
     "name": "stdout",
     "output_type": "stream",
     "text": [
      "Training accuracy =  0.9984276729559748\n",
      "Testing accuracy =  0.9066666666666666\n"
     ]
    }
   ],
   "source": [
    "#Print Train Accuracy\n",
    "dt_train_accuracy = ml.score(X_train,y_train)\n",
    "print(\"Training accuracy = \",ml.score(X_train,y_train))\n",
    "#Print Test Accuracy\n",
    "dt_test_accuracy = ml.score(X_test,y_test)\n",
    "print(\"Testing accuracy = \",ml.score(X_test,y_test))"
   ]
  },
  {
   "cell_type": "code",
   "execution_count": 16,
   "id": "e3344582",
   "metadata": {},
   "outputs": [
    {
     "name": "stderr",
     "output_type": "stream",
     "text": [
      "C:\\Users\\Dex\\anaconda3\\lib\\site-packages\\sklearn\\base.py:465: UserWarning: X does not have valid feature names, but DecisionTreeClassifier was fitted with feature names\n",
      "  warnings.warn(\n"
     ]
    },
    {
     "data": {
      "text/plain": [
       "array(['mango'], dtype=object)"
      ]
     },
     "execution_count": 16,
     "metadata": {},
     "output_type": "execute_result"
    }
   ],
   "source": [
    "#manual usage : [[N, P, K]]\n",
    "pred = [[1,44,61]]\n",
    "ml.predict(pred)"
   ]
  },
  {
   "cell_type": "code",
   "execution_count": 17,
   "id": "24d1e54a",
   "metadata": {},
   "outputs": [
    {
     "data": {
      "text/plain": [
       "['cropReccV1.joblib']"
      ]
     },
     "execution_count": 17,
     "metadata": {},
     "output_type": "execute_result"
    }
   ],
   "source": [
    "import joblib\n",
    "joblib.dump(ml, 'cropReccV1.joblib')"
   ]
  },
  {
   "cell_type": "code",
   "execution_count": 18,
   "id": "1edfb3e9",
   "metadata": {},
   "outputs": [
    {
     "name": "stdout",
     "output_type": "stream",
     "text": [
      "['rice']\n"
     ]
    },
    {
     "name": "stderr",
     "output_type": "stream",
     "text": [
      "C:\\Users\\Dex\\anaconda3\\lib\\site-packages\\sklearn\\base.py:465: UserWarning: X does not have valid feature names, but DecisionTreeClassifier was fitted with feature names\n",
      "  warnings.warn(\n"
     ]
    }
   ],
   "source": [
    "# cropRecc.jolib file version is the model without the Banana and Rice\n",
    "# With non-simplified crop term\n",
    "# cropReccV1.joblib file version is with the two crop and and\n",
    "# With simplified crop term\n",
    "\n",
    "model = joblib.load('cropReccV1.joblib')\n",
    "print(model.predict([[118,42,59]]))"
   ]
  },
  {
   "cell_type": "code",
   "execution_count": 19,
   "id": "cf48bf4a",
   "metadata": {},
   "outputs": [
    {
     "name": "stdout",
     "output_type": "stream",
     "text": [
      "Name: joblibNote: you may need to restart the kernel to use updated packages.\n",
      "\n",
      "Version: 1.2.0\n",
      "Summary: Lightweight pipelining with Python functions\n",
      "Home-page: https://joblib.readthedocs.io\n",
      "Author: Gael Varoquaux\n",
      "Author-email: gael.varoquaux@normalesup.org\n",
      "License: BSD\n",
      "Location: c:\\users\\dex\\anaconda3\\lib\\site-packages\n",
      "Requires: \n",
      "Required-by: hdbscan, imbalanced-learn, kmodes, nltk, scikit-learn\n"
     ]
    },
    {
     "name": "stderr",
     "output_type": "stream",
     "text": [
      "WARNING: Ignoring invalid distribution -rotobuf (c:\\users\\dex\\anaconda3\\lib\\site-packages)\n"
     ]
    }
   ],
   "source": [
    "pip show joblib\n"
   ]
  },
  {
   "cell_type": "code",
   "execution_count": 20,
   "id": "2ab20b50",
   "metadata": {},
   "outputs": [
    {
     "name": "stdout",
     "output_type": "stream",
     "text": [
      "Name: scikit-learn\n",
      "Version: 1.3.2\n",
      "Summary: A set of python modules for machine learning and data mining\n",
      "Home-page: http://scikit-learn.org\n",
      "Author: \n",
      "Author-email: \n",
      "License: new BSD\n",
      "Location: c:\\users\\dex\\anaconda3\\lib\\site-packages\n",
      "Requires: joblib, numpy, scipy, threadpoolctl\n",
      "Required-by: hdbscan, imbalanced-learn, kmodes, rdt, scikit-learn-intelex, sdmetrics, skl2onnx\n",
      "Note: you may need to restart the kernel to use updated packages.\n"
     ]
    },
    {
     "name": "stderr",
     "output_type": "stream",
     "text": [
      "WARNING: Ignoring invalid distribution -rotobuf (c:\\users\\dex\\anaconda3\\lib\\site-packages)\n"
     ]
    }
   ],
   "source": [
    "pip show scikit-learn "
   ]
  },
  {
   "cell_type": "code",
   "execution_count": null,
   "id": "ba900083",
   "metadata": {},
   "outputs": [],
   "source": []
  },
  {
   "cell_type": "code",
   "execution_count": null,
   "id": "e46224f7",
   "metadata": {},
   "outputs": [],
   "source": []
  }
 ],
 "metadata": {
  "kernelspec": {
   "display_name": "Python 3 (ipykernel)",
   "language": "python",
   "name": "python3"
  },
  "language_info": {
   "codemirror_mode": {
    "name": "ipython",
    "version": 3
   },
   "file_extension": ".py",
   "mimetype": "text/x-python",
   "name": "python",
   "nbconvert_exporter": "python",
   "pygments_lexer": "ipython3",
   "version": "3.9.13"
  }
 },
 "nbformat": 4,
 "nbformat_minor": 5
}
